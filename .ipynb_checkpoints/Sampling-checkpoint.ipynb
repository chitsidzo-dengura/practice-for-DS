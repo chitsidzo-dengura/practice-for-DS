{
 "cells": [
  {
   "cell_type": "markdown",
   "id": "fe92afb4",
   "metadata": {},
   "source": [
    "# Level 1\n",
    "## Level 2\n",
    "### Level 3"
   ]
  },
  {
   "cell_type": "markdown",
   "id": "b000e12a",
   "metadata": {},
   "source": [
    "*laca*"
   ]
  },
  {
   "cell_type": "markdown",
   "id": "97742066",
   "metadata": {},
   "source": []
  },
  {
   "cell_type": "markdown",
   "id": "9ce52c70",
   "metadata": {},
   "source": []
  }
 ],
 "metadata": {
  "kernelspec": {
   "display_name": "Python 3 (ipykernel)",
   "language": "python",
   "name": "python3"
  },
  "language_info": {
   "codemirror_mode": {
    "name": "ipython",
    "version": 3
   },
   "file_extension": ".py",
   "mimetype": "text/x-python",
   "name": "python",
   "nbconvert_exporter": "python",
   "pygments_lexer": "ipython3",
   "version": "3.9.12"
  }
 },
 "nbformat": 4,
 "nbformat_minor": 5
}
